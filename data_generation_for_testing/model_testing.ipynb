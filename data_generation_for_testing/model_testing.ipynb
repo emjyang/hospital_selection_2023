{
 "cells": [
  {
   "cell_type": "code",
   "execution_count": 5,
   "id": "1f46e4cc",
   "metadata": {},
   "outputs": [],
   "source": [
    "import pandas as pd\n",
    "import numpy as np\n",
    "import skcriteria as skc\n",
    "from skcriteria.preprocessing import invert_objectives, scalers\n",
    "from skcriteria.agg import simple"
   ]
  },
  {
   "cell_type": "code",
   "execution_count": 3,
   "id": "f40a2a60-9efe-494e-b57c-cbeb2f7142f8",
   "metadata": {},
   "outputs": [
    {
     "name": "stdout",
     "output_type": "stream",
     "text": [
      "6.04 ns ± 0.504 ns per loop (mean ± std. dev. of 7 runs, 100,000,000 loops each)\n"
     ]
    }
   ],
   "source": [
    "%%timeit\n",
    "4+4"
   ]
  },
  {
   "cell_type": "code",
   "execution_count": 22,
   "id": "fc62f95e-bd5e-4dd0-bc4a-a7568b3eb4f9",
   "metadata": {},
   "outputs": [],
   "source": [
    "small_data = pd.read_csv('hospital_data_full.csv', engine='pyarrow').loc[:, ['Patient Survey Star Rating', 'Score', 'ID']]\n",
    "large_data = pd.read_csv('synthetic_hospital_data_100k_v2.csv', engine='pyarrow').loc[:, ['Patient Survey Star Rating', 'Score', 'ID']]"
   ]
  },
  {
   "cell_type": "code",
   "execution_count": 23,
   "id": "671e3072-7bb9-4a69-bca8-79f77e75312a",
   "metadata": {},
   "outputs": [
    {
     "data": {
      "text/html": [
       "<div>\n",
       "<style scoped>\n",
       "    .dataframe tbody tr th:only-of-type {\n",
       "        vertical-align: middle;\n",
       "    }\n",
       "\n",
       "    .dataframe tbody tr th {\n",
       "        vertical-align: top;\n",
       "    }\n",
       "\n",
       "    .dataframe thead th {\n",
       "        text-align: right;\n",
       "    }\n",
       "</style>\n",
       "<table border=\"1\" class=\"dataframe\">\n",
       "  <thead>\n",
       "    <tr style=\"text-align: right;\">\n",
       "      <th></th>\n",
       "      <th>Patient Survey Star Rating</th>\n",
       "      <th>Score</th>\n",
       "      <th>ID</th>\n",
       "    </tr>\n",
       "  </thead>\n",
       "  <tbody>\n",
       "    <tr>\n",
       "      <th>0</th>\n",
       "      <td>2.090909</td>\n",
       "      <td>80.200000</td>\n",
       "      <td>1336420</td>\n",
       "    </tr>\n",
       "    <tr>\n",
       "      <th>1</th>\n",
       "      <td>3.181818</td>\n",
       "      <td>83.684211</td>\n",
       "      <td>136502</td>\n",
       "    </tr>\n",
       "    <tr>\n",
       "      <th>2</th>\n",
       "      <td>2.909091</td>\n",
       "      <td>94.483871</td>\n",
       "      <td>196784204</td>\n",
       "    </tr>\n",
       "    <tr>\n",
       "      <th>3</th>\n",
       "      <td>4.090909</td>\n",
       "      <td>78.642857</td>\n",
       "      <td>3236251</td>\n",
       "    </tr>\n",
       "    <tr>\n",
       "      <th>4</th>\n",
       "      <td>3.727273</td>\n",
       "      <td>87.227273</td>\n",
       "      <td>3336078</td>\n",
       "    </tr>\n",
       "  </tbody>\n",
       "</table>\n",
       "</div>"
      ],
      "text/plain": [
       "   Patient Survey Star Rating      Score         ID\n",
       "0                    2.090909  80.200000    1336420\n",
       "1                    3.181818  83.684211     136502\n",
       "2                    2.909091  94.483871  196784204\n",
       "3                    4.090909  78.642857    3236251\n",
       "4                    3.727273  87.227273    3336078"
      ]
     },
     "execution_count": 23,
     "metadata": {},
     "output_type": "execute_result"
    }
   ],
   "source": [
    "small_data.head()"
   ]
  },
  {
   "cell_type": "code",
   "execution_count": 31,
   "id": "9e2c35c1-1ba9-4789-885e-68d4214821b1",
   "metadata": {},
   "outputs": [
    {
     "data": {
      "text/html": [
       "<div>\n",
       "<style scoped>\n",
       "    .dataframe tbody tr th:only-of-type {\n",
       "        vertical-align: middle;\n",
       "    }\n",
       "\n",
       "    .dataframe tbody tr th {\n",
       "        vertical-align: top;\n",
       "    }\n",
       "\n",
       "    .dataframe thead th {\n",
       "        text-align: right;\n",
       "    }\n",
       "</style>\n",
       "<table border=\"1\" class=\"dataframe\">\n",
       "  <thead>\n",
       "    <tr style=\"text-align: right;\">\n",
       "      <th></th>\n",
       "      <th>Patient Survey Star Rating</th>\n",
       "      <th>Score</th>\n",
       "      <th>ID</th>\n",
       "    </tr>\n",
       "  </thead>\n",
       "  <tbody>\n",
       "    <tr>\n",
       "      <th>0</th>\n",
       "      <td>2.090909</td>\n",
       "      <td>80.200000</td>\n",
       "      <td>1336420</td>\n",
       "    </tr>\n",
       "    <tr>\n",
       "      <th>1</th>\n",
       "      <td>3.181818</td>\n",
       "      <td>83.684211</td>\n",
       "      <td>136502</td>\n",
       "    </tr>\n",
       "    <tr>\n",
       "      <th>2</th>\n",
       "      <td>2.909091</td>\n",
       "      <td>94.483871</td>\n",
       "      <td>196784204</td>\n",
       "    </tr>\n",
       "    <tr>\n",
       "      <th>3</th>\n",
       "      <td>4.090909</td>\n",
       "      <td>78.642857</td>\n",
       "      <td>3236251</td>\n",
       "    </tr>\n",
       "    <tr>\n",
       "      <th>4</th>\n",
       "      <td>3.727273</td>\n",
       "      <td>87.227273</td>\n",
       "      <td>3336078</td>\n",
       "    </tr>\n",
       "    <tr>\n",
       "      <th>...</th>\n",
       "      <td>...</td>\n",
       "      <td>...</td>\n",
       "      <td>...</td>\n",
       "    </tr>\n",
       "    <tr>\n",
       "      <th>769</th>\n",
       "      <td>2.363636</td>\n",
       "      <td>84.181818</td>\n",
       "      <td>31733317</td>\n",
       "    </tr>\n",
       "    <tr>\n",
       "      <th>770</th>\n",
       "      <td>3.909091</td>\n",
       "      <td>77.083333</td>\n",
       "      <td>10071655</td>\n",
       "    </tr>\n",
       "    <tr>\n",
       "      <th>771</th>\n",
       "      <td>2.818182</td>\n",
       "      <td>83.033333</td>\n",
       "      <td>1771730</td>\n",
       "    </tr>\n",
       "    <tr>\n",
       "      <th>772</th>\n",
       "      <td>2.000000</td>\n",
       "      <td>99.692308</td>\n",
       "      <td>3392311</td>\n",
       "    </tr>\n",
       "    <tr>\n",
       "      <th>773</th>\n",
       "      <td>3.181818</td>\n",
       "      <td>89.172414</td>\n",
       "      <td>9450316</td>\n",
       "    </tr>\n",
       "  </tbody>\n",
       "</table>\n",
       "<p>774 rows × 3 columns</p>\n",
       "</div>"
      ],
      "text/plain": [
       "     Patient Survey Star Rating      Score         ID\n",
       "0                      2.090909  80.200000    1336420\n",
       "1                      3.181818  83.684211     136502\n",
       "2                      2.909091  94.483871  196784204\n",
       "3                      4.090909  78.642857    3236251\n",
       "4                      3.727273  87.227273    3336078\n",
       "..                          ...        ...        ...\n",
       "769                    2.363636  84.181818   31733317\n",
       "770                    3.909091  77.083333   10071655\n",
       "771                    2.818182  83.033333    1771730\n",
       "772                    2.000000  99.692308    3392311\n",
       "773                    3.181818  89.172414    9450316\n",
       "\n",
       "[774 rows x 3 columns]"
      ]
     },
     "execution_count": 31,
     "metadata": {},
     "output_type": "execute_result"
    }
   ],
   "source": [
    "small_data"
   ]
  },
  {
   "cell_type": "code",
   "execution_count": 24,
   "id": "fbe5416c-b8a3-4247-888f-f8d817458d0e",
   "metadata": {},
   "outputs": [
    {
     "data": {
      "text/html": [
       "<div>\n",
       "<style scoped>\n",
       "    .dataframe tbody tr th:only-of-type {\n",
       "        vertical-align: middle;\n",
       "    }\n",
       "\n",
       "    .dataframe tbody tr th {\n",
       "        vertical-align: top;\n",
       "    }\n",
       "\n",
       "    .dataframe thead th {\n",
       "        text-align: right;\n",
       "    }\n",
       "</style>\n",
       "<table border=\"1\" class=\"dataframe\">\n",
       "  <thead>\n",
       "    <tr style=\"text-align: right;\">\n",
       "      <th></th>\n",
       "      <th>Patient Survey Star Rating</th>\n",
       "      <th>Score</th>\n",
       "      <th>ID</th>\n",
       "    </tr>\n",
       "  </thead>\n",
       "  <tbody>\n",
       "    <tr>\n",
       "      <th>0</th>\n",
       "      <td>1447.797607</td>\n",
       "      <td>35605.308594</td>\n",
       "      <td>-83373449216</td>\n",
       "    </tr>\n",
       "    <tr>\n",
       "      <th>1</th>\n",
       "      <td>1529.498779</td>\n",
       "      <td>37330.425781</td>\n",
       "      <td>-88225284096</td>\n",
       "    </tr>\n",
       "    <tr>\n",
       "      <th>2</th>\n",
       "      <td>828.557068</td>\n",
       "      <td>20303.488281</td>\n",
       "      <td>-47549206528</td>\n",
       "    </tr>\n",
       "    <tr>\n",
       "      <th>3</th>\n",
       "      <td>1297.953125</td>\n",
       "      <td>31935.941406</td>\n",
       "      <td>-74501464064</td>\n",
       "    </tr>\n",
       "    <tr>\n",
       "      <th>4</th>\n",
       "      <td>1233.274170</td>\n",
       "      <td>30211.619141</td>\n",
       "      <td>-71078887424</td>\n",
       "    </tr>\n",
       "  </tbody>\n",
       "</table>\n",
       "</div>"
      ],
      "text/plain": [
       "   Patient Survey Star Rating         Score           ID\n",
       "0                 1447.797607  35605.308594 -83373449216\n",
       "1                 1529.498779  37330.425781 -88225284096\n",
       "2                  828.557068  20303.488281 -47549206528\n",
       "3                 1297.953125  31935.941406 -74501464064\n",
       "4                 1233.274170  30211.619141 -71078887424"
      ]
     },
     "execution_count": 24,
     "metadata": {},
     "output_type": "execute_result"
    }
   ],
   "source": [
    "large_data.head()"
   ]
  },
  {
   "cell_type": "code",
   "execution_count": 25,
   "id": "0c86f4cc-9ecf-4718-959d-e4acbe91707d",
   "metadata": {},
   "outputs": [],
   "source": [
    "weights = [0.25, 0.25, 0.5]"
   ]
  },
  {
   "cell_type": "code",
   "execution_count": 26,
   "id": "eef3778e-4b1e-4ae3-a26b-2c18eb03adf3",
   "metadata": {},
   "outputs": [],
   "source": [
    "objectives = [max, max, min]"
   ]
  },
  {
   "cell_type": "code",
   "execution_count": 28,
   "id": "f0a1c518-6caa-4416-bca7-2cb47986a32d",
   "metadata": {},
   "outputs": [
    {
     "name": "stdout",
     "output_type": "stream",
     "text": [
      "2.63 ms ± 343 µs per loop (mean ± std. dev. of 7 runs, 100 loops each)\n"
     ]
    }
   ],
   "source": [
    "%%timeit\n",
    "# print(state.matrix.isnull().sum().sum())\n",
    "dm = skc.mkdm(\n",
    "    small_data, \n",
    "    objectives, \n",
    "    weights=weights, \n",
    "    alternatives=small_data.index,\n",
    "    criteria=['Patient Survey Star Rating', 'Score', 'ID'])\n",
    "# print(dm)\n",
    "inverter = invert_objectives.InvertMinimize()\n",
    "dmt = inverter.transform(dm)\n",
    "# print(dmt)\n",
    "scaler = scalers.SumScaler(target=\"both\")\n",
    "dmt = scaler.transform(dmt)\n",
    "# print(dmt)\n",
    "dec = simple.WeightedSumModel()\n",
    "rank = dec.evaluate(dmt).to_series()\n"
   ]
  },
  {
   "cell_type": "code",
   "execution_count": 30,
   "id": "1dd4205b-cdfa-4ee3-8589-5bd11bf0bc34",
   "metadata": {},
   "outputs": [
    {
     "name": "stdout",
     "output_type": "stream",
     "text": [
      "30.8 ms ± 1.78 ms per loop (mean ± std. dev. of 7 runs, 10 loops each)\n"
     ]
    }
   ],
   "source": [
    "%%timeit\n",
    "# print(state.matrix.isnull().sum().sum())\n",
    "dm = skc.mkdm(\n",
    "    large_data, \n",
    "    objectives, \n",
    "    weights=weights, \n",
    "    alternatives=large_data.index,\n",
    "    criteria=['Patient Survey Star Rating', 'Score', 'ID'])\n",
    "# print(dm)\n",
    "inverter = invert_objectives.InvertMinimize()\n",
    "dmt = inverter.transform(dm)\n",
    "# print(dmt)\n",
    "scaler = scalers.SumScaler(target=\"both\")\n",
    "dmt = scaler.transform(dmt)\n",
    "# print(dmt)\n",
    "dec = simple.WeightedSumModel()\n",
    "rank = dec.evaluate(dmt).to_series()\n"
   ]
  },
  {
   "cell_type": "code",
   "execution_count": null,
   "id": "3426c88a-e062-4f27-b5f7-ba6ccb1c8a3b",
   "metadata": {},
   "outputs": [],
   "source": []
  }
 ],
 "metadata": {
  "kernelspec": {
   "display_name": "Python 3 (ipykernel)",
   "language": "python",
   "name": "python3"
  },
  "language_info": {
   "codemirror_mode": {
    "name": "ipython",
    "version": 3
   },
   "file_extension": ".py",
   "mimetype": "text/x-python",
   "name": "python",
   "nbconvert_exporter": "python",
   "pygments_lexer": "ipython3",
   "version": "3.9.6"
  }
 },
 "nbformat": 4,
 "nbformat_minor": 5
}
